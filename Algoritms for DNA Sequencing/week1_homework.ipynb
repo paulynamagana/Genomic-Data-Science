{
 "cells": [
  {
   "attachments": {},
   "cell_type": "markdown",
   "metadata": {},
   "source": [
    "## Programming Homework"
   ]
  },
  {
   "attachments": {},
   "cell_type": "markdown",
   "metadata": {},
   "source": [
    "First, implement a version of the naive exact matching algorithm that is strand-aware. That is, instead of looking only for occurrences of P in T, additionally look for occurrences of thereverse complement of P in T. If P is ACT, your function should find occurrences of both ACTand its reverse complement AGT in T.\n",
    "\n",
    "If P and its reverse complement are identical (e.g. AACGTT), then a given match offset should be reported only once. So if your new function is called naive_with_rc, then the old naivefunction and your new naive_with_rc function should return the same results when P equals its reverse complement."
   ]
  },
  {
   "cell_type": "code",
   "execution_count": 21,
   "metadata": {},
   "outputs": [],
   "source": [
    "##!python -m wget https://d28rh4a8wq0iu5.cloudfront.net/ads1/data/lambda_virus.fa"
   ]
  },
  {
   "cell_type": "code",
   "execution_count": 22,
   "metadata": {},
   "outputs": [],
   "source": [
    "## to read file\n",
    "def ReadGenome(filename):\n",
    "    genome = \"\"\n",
    "    with open(filename, \"r\") as f:\n",
    "        for line in f:\n",
    "            if not line[0] == \">\":\n",
    "                genome += line.rstrip()\n",
    "    return genome\n",
    "\n",
    "##read file\n",
    "genome = ReadGenome(\"lambda_virus.fa\")"
   ]
  },
  {
   "cell_type": "code",
   "execution_count": 23,
   "metadata": {},
   "outputs": [],
   "source": [
    "## reverse complement function\n",
    "##def function\n",
    "def ReverseComplement(s):\n",
    "    complement = {\"A\": \"T\", \"C\": \"G\", \"T\": \"A\",\"G\": \"C\", \"N\": \"N\"}  # array for dictionary\n",
    "    ##add the N to the dictionary, as it can be found in the reads\n",
    "\n",
    "    t = \"\"  # empty\n",
    "    for base in s:\n",
    "        t = complement[base] + t\n",
    "    return t\n"
   ]
  },
  {
   "cell_type": "code",
   "execution_count": 24,
   "metadata": {},
   "outputs": [],
   "source": [
    "## naive_rc\n",
    "def naive_with_rc(p, genome):\n",
    "    reverse = ReverseComplement(p)\n",
    "    ocurrences = []\n",
    "\n",
    "    for i in range(len(genome) - len(p) +1): #loop\n",
    "        match = True\n",
    "        for j in range(len(p)): #loop\n",
    "            if genome[i+j] != p[j]:\n",
    "                match = False\n",
    "                break\n",
    "        if not match:\n",
    "            match=True\n",
    "            for j in range(len(p)):\n",
    "                if genome[i+j] != reverse[j]:\n",
    "                    match=False\n",
    "                    break\n",
    "        if match:\n",
    "            ocurrences.append(i)\n",
    "    return ocurrences"
   ]
  },
  {
   "cell_type": "code",
   "execution_count": 25,
   "metadata": {},
   "outputs": [
    {
     "name": "stdout",
     "output_type": "stream",
     "text": [
      "[10, 23]\n"
     ]
    }
   ],
   "source": [
    "p = 'CCC'\n",
    "ten_as = 'AAAAAAAAAA'\n",
    "t = ten_as + 'CCC' + ten_as + 'GGG' + ten_as\n",
    "occurrences = naive_with_rc(p, t)\n",
    "print(occurrences)"
   ]
  },
  {
   "cell_type": "code",
   "execution_count": 26,
   "metadata": {},
   "outputs": [
    {
     "name": "stdout",
     "output_type": "stream",
     "text": [
      "306\n"
     ]
    }
   ],
   "source": [
    "#Question 1\n",
    "print(len(naive_with_rc('AGGT', genome)))"
   ]
  },
  {
   "cell_type": "code",
   "execution_count": 27,
   "metadata": {},
   "outputs": [
    {
     "name": "stdout",
     "output_type": "stream",
     "text": [
      "195\n"
     ]
    }
   ],
   "source": [
    "#Question 2\n",
    "print(len(naive_with_rc('TTAA', genome)))\n"
   ]
  },
  {
   "cell_type": "code",
   "execution_count": 28,
   "metadata": {},
   "outputs": [
    {
     "name": "stdout",
     "output_type": "stream",
     "text": [
      "26028\n"
     ]
    }
   ],
   "source": [
    "#Question 3\n",
    "print(min(naive_with_rc('ACTAAGT', genome)))\n"
   ]
  },
  {
   "cell_type": "code",
   "execution_count": 29,
   "metadata": {},
   "outputs": [
    {
     "name": "stdout",
     "output_type": "stream",
     "text": [
      "450\n"
     ]
    }
   ],
   "source": [
    "#Question 4\n",
    "print(min(naive_with_rc('AGTCGA', genome)))\n"
   ]
  },
  {
   "cell_type": "code",
   "execution_count": 30,
   "metadata": {},
   "outputs": [],
   "source": [
    "## naive_rc\n",
    "def naive_2mm(p, genome):\n",
    "    ocurrences = []\n",
    "\n",
    "    for i in range(len(genome) - len(p) + 1):  # loop\n",
    "        count_mismatch = 0\n",
    "        for j in range(len(p)):  # loop\n",
    "            if genome[i+j] != p[j]:\n",
    "                    count_mismatch +=1\n",
    "        if count_mismatch <=2:\n",
    "            ocurrences.append(i)\n",
    "    return ocurrences\n"
   ]
  },
  {
   "cell_type": "code",
   "execution_count": 31,
   "metadata": {},
   "outputs": [
    {
     "name": "stdout",
     "output_type": "stream",
     "text": [
      "[10, 24, 38]\n"
     ]
    }
   ],
   "source": [
    "#example\n",
    "p = 'CTGT'\n",
    "ten_as = 'AAAAAAAAAA'\n",
    "t = ten_as + 'CTGT' + ten_as + 'CTTT' + ten_as + 'CGGG' + ten_as\n",
    "occurrences = naive_2mm(p, t)\n",
    "print(occurrences)\n"
   ]
  },
  {
   "cell_type": "code",
   "execution_count": 32,
   "metadata": {},
   "outputs": [
    {
     "name": "stdout",
     "output_type": "stream",
     "text": [
      "191\n"
     ]
    }
   ],
   "source": [
    "#Question 5\n",
    "print(len(naive_2mm(\"TTCAAGCC\", genome)))\n"
   ]
  },
  {
   "cell_type": "code",
   "execution_count": 33,
   "metadata": {},
   "outputs": [
    {
     "name": "stdout",
     "output_type": "stream",
     "text": [
      "49\n"
     ]
    }
   ],
   "source": [
    "#Question 6\n",
    "print(min(naive_2mm(\"AGGAGGTT\", genome)))\n"
   ]
  },
  {
   "cell_type": "code",
   "execution_count": 34,
   "metadata": {},
   "outputs": [],
   "source": [
    "#Question 7\n",
    "#!python -m wget https://d28rh4a8wq0iu5.cloudfront.net/ads1/data/ERR037900_1.first1000.fastq"
   ]
  },
  {
   "cell_type": "code",
   "execution_count": 35,
   "metadata": {},
   "outputs": [],
   "source": [
    "#read and parse\n",
    "def readFastQ(filename):\n",
    "    sequences = []\n",
    "    qualities = []\n",
    "    with open(filename) as fh:\n",
    "        while True:\n",
    "            fh.readline() #ignore line\n",
    "            seq = fh.readline().rstrip()\n",
    "            fh.readline() #ignore line\n",
    "            qual = fh.readline().rstrip()\n",
    "            if len(seq) == 0: #if have reached the end of the file\n",
    "                break\n",
    "            sequences.append(seq) #append all the reads\n",
    "            qualities.append(qual) #append all the qualities\n",
    "    return sequences, qualities\n",
    "\n",
    "_, quals = readFastQ(\"ERR037900_1.first1000.fastq\") #open file"
   ]
  },
  {
   "cell_type": "code",
   "execution_count": 39,
   "metadata": {},
   "outputs": [
    {
     "data": {
      "image/png": "[encoded data removed]",
      "text/plain": [
       "<Figure size 640x480 with 1 Axes>"
      ]
     },
     "metadata": {},
     "output_type": "display_data"
    }
   ],
   "source": [
    "#convert PHRED33 to quality score\n",
    "import matplotlib.pyplot as plt\n",
    "def phred33ToQ(qual):\n",
    "    return ord(qual) - 33\n",
    "\n",
    "\n",
    "def createHist(qualities):\n",
    "    hist = [0] * len(qualities[0])\n",
    "    for qual in qualities:\n",
    "        for phred in range(len(qual)):\n",
    "            q = phred33ToQ(qual[phred])\n",
    "            hist[phred] += q\n",
    "    return hist\n",
    "\n",
    "\n",
    "h = createHist(quals)\n",
    "plt.plot(range(len(h)), h)\n",
    "plt.show()\n"
   ]
  }
 ],
 "metadata": {
  "kernelspec": {
   "display_name": "Python 3",
   "language": "python",
   "name": "python3"
  },
  "language_info": {
   "codemirror_mode": {
    "name": "ipython",
    "version": 3
   },
   "file_extension": ".py",
   "mimetype": "text/x-python",
   "name": "python",
   "nbconvert_exporter": "python",
   "pygments_lexer": "ipython3",
   "version": "3.10.2"
  },
  "orig_nbformat": 4,
  "vscode": {
   "interpreter": {
    "hash": "369f2c481f4da34e4445cda3fffd2e751bd1c4d706f27375911949ba6bb62e1c"
   }
  }
 },
 "nbformat": 4,
 "nbformat_minor": 2
}
